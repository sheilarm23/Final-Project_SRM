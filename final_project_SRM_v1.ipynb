{
 "cells": [
  {
   "cell_type": "code",
   "execution_count": null,
   "metadata": {},
   "outputs": [],
   "source": [
    "Introduction to Computing for Biologists\n",
    "Spring 2020\n",
    "Final Project\n",
    "\n",
    "Sheila Rodriguez Machado"
   ]
  },
  {
   "cell_type": "code",
   "execution_count": 23,
   "metadata": {},
   "outputs": [],
   "source": [
    "# Importing necessary modules\n",
    "import random\n",
    "from random import choice"
   ]
  },
  {
   "cell_type": "code",
   "execution_count": 24,
   "metadata": {},
   "outputs": [],
   "source": [
    "# creating a class to store individuals of the Warbling Babbler\n",
    "class individual:\n",
    "    \"\"\"class to store each Warbling Babbler individual\"\"\"\n",
    "    def __init__(self, phenotype):\n",
    "        \"\"\"constructor required for the class population\"\"\"\n",
    "        self.phenotype=phenotype"
   ]
  },
  {
   "cell_type": "code",
   "execution_count": 25,
   "metadata": {},
   "outputs": [],
   "source": [
    "class population:\n",
    "    \"\"\"class to store information on each individual (its phenotype/color) within the population\"\"\"\n",
    "    def __init__(self, popSize=100):\n",
    "        # Add a docstring\n",
    "        \"\"\"constructors required for the class population\"\"\"\n",
    "        # this ppulation will have a total of 100 individuals\n",
    "        self.popSize=popSize\n",
    "        \n",
    "        # creating the list with the phenotypes of each individual\n",
    "        self.colorList=[\"blue\", \"yellow\", \"pink\"]\n",
    "        \n",
    "        # creating an empty list to store each individual\n",
    "        self.individuals=[]\n",
    "        \n",
    "        # adding the phenotype of each individual in a random way\n",
    "        for x in range(popSize):\n",
    "            self.individuals.append(choice(self.colorList))\n",
    "        \n",
    "        # counting the frequency of each phenotype within the population\n",
    "        self.blue=self.individuals.count(\"blue\")\n",
    "        self.yellow=self.individuals.count(\"yellow\")\n",
    "        self.pink=self.individuals.count(\"pink\")\n",
    "    \n",
    "    def printPhenotypes(self):\n",
    "        \"\"\"method to print the frequency of each phenotype within the entire population\"\"\"\n",
    "        print(\"The population has a total of %f blue individuals, %f, yellow individuals, and %f pink individuals.\" % (self.blue, self.yellow, self.pink))\n",
    "        "
   ]
  },
  {
   "cell_type": "code",
   "execution_count": 27,
   "metadata": {},
   "outputs": [
    {
     "name": "stdout",
     "output_type": "stream",
     "text": [
      "The population has a total of 36.000000 blue individuals, 41.000000, yellow individuals, and 23.000000 pink individuals.\n"
     ]
    }
   ],
   "source": [
    "# testing that the functions/methods are working properly\n",
    "pop1=population()\n",
    "pop1.printPhenotypes()"
   ]
  }
 ],
 "metadata": {
  "kernelspec": {
   "display_name": "Python 3",
   "language": "python",
   "name": "python3"
  },
  "language_info": {
   "codemirror_mode": {
    "name": "ipython",
    "version": 3
   },
   "file_extension": ".py",
   "mimetype": "text/x-python",
   "name": "python",
   "nbconvert_exporter": "python",
   "pygments_lexer": "ipython3",
   "version": "3.6.4"
  }
 },
 "nbformat": 4,
 "nbformat_minor": 2
}
